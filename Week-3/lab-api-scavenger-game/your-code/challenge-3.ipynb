{
 "cells": [
  {
   "cell_type": "markdown",
   "id": "defensive-clock",
   "metadata": {},
   "source": [
    "# Challenge 3: Hidden Cold Joke\n",
    "\n",
    "Using Python, call Github API to find out the cold joke contained in the 24 secret files in the following repo:\n",
    "\n",
    "https://github.com/ironhack-datalabs/scavenger\n",
    "\n",
    "The filenames of the secret files contain .scavengerhunt and they are scattered in different directories of this repo. The secret files are named from .0001.scavengerhunt to .0024.scavengerhunt. They are scattered randomly throughout this repo. You need to search for these files by calling the Github API, not searching the local files on your computer.\n",
    "\n",
    "\n",
    "After you find out the secrete files:\n",
    "\n",
    "Sort the filenames ascendingly.\n",
    "\n",
    "Read the content of each secret files into an array of strings.\n",
    "\n",
    "Concatenate the strings in the array separating each two with a whitespace.\n",
    "\n",
    "Print out the joke."
   ]
  },
  {
   "cell_type": "markdown",
   "id": "universal-length",
   "metadata": {},
   "source": [
    "⚠️ **Remember to limit your output before submission**."
   ]
  },
  {
   "cell_type": "code",
   "execution_count": 1,
   "id": "9ac1f3a9",
   "metadata": {},
   "outputs": [],
   "source": [
    "import json\n",
    "import requests\n",
    "import pandas as pd\n",
    "from pandas import json_normalize\n",
    "import os\n",
    "import base64"
   ]
  },
  {
   "cell_type": "code",
   "execution_count": 2,
   "id": "toxic-trading",
   "metadata": {},
   "outputs": [],
   "source": [
    "url = \"https://api.github.com/repos/ironhack-datalabs/scavenger/contents\"\n",
    "response = requests.get(url)"
   ]
  },
  {
   "cell_type": "code",
   "execution_count": 4,
   "id": "static-stopping",
   "metadata": {
    "scrolled": true
   },
   "outputs": [
    {
     "data": {
      "text/html": [
       "<div>\n",
       "<style scoped>\n",
       "    .dataframe tbody tr th:only-of-type {\n",
       "        vertical-align: middle;\n",
       "    }\n",
       "\n",
       "    .dataframe tbody tr th {\n",
       "        vertical-align: top;\n",
       "    }\n",
       "\n",
       "    .dataframe thead th {\n",
       "        text-align: right;\n",
       "    }\n",
       "</style>\n",
       "<table border=\"1\" class=\"dataframe\">\n",
       "  <thead>\n",
       "    <tr style=\"text-align: right;\">\n",
       "      <th></th>\n",
       "      <th>message</th>\n",
       "      <th>documentation_url</th>\n",
       "    </tr>\n",
       "  </thead>\n",
       "  <tbody>\n",
       "    <tr>\n",
       "      <th>0</th>\n",
       "      <td>API rate limit exceeded for 139.47.114.31. (Bu...</td>\n",
       "      <td>https://docs.github.com/rest/overview/resource...</td>\n",
       "    </tr>\n",
       "  </tbody>\n",
       "</table>\n",
       "</div>"
      ],
      "text/plain": [
       "                                             message  \\\n",
       "0  API rate limit exceeded for 139.47.114.31. (Bu...   \n",
       "\n",
       "                                   documentation_url  \n",
       "0  https://docs.github.com/rest/overview/resource...  "
      ]
     },
     "execution_count": 4,
     "metadata": {},
     "output_type": "execute_result"
    }
   ],
   "source": [
    "# Example: print(variable[:10]) \n",
    "df = json_normalize(response.json())\n",
    "dir_list = list(df.name)[1:]"
   ]
  },
  {
   "cell_type": "code",
   "execution_count": null,
   "id": "713545b1",
   "metadata": {},
   "outputs": [],
   "source": [
    "df_dir"
   ]
  },
  {
   "cell_type": "code",
   "execution_count": null,
   "id": "6b755718",
   "metadata": {},
   "outputs": [],
   "source": [
    "# LAST \n",
    "list_of_files = []\n",
    "for directory in dir_list:\n",
    "    url_dir = \"https://api.github.com/repos/ironhack-datalabs/scavenger/contents/\"+directory\n",
    "    response_dir = requests.get(url_dir)\n",
    "    df_dir = json_normalize(response_dir.json())\n",
    "    df_dir.sort_values(by='name', ascending=True, inplace=True)\n",
    "    file = df_dir['name'].iloc[0]\n",
    "    if file not in list_of_files:\n",
    "        list_of_files.append([directory, file])"
   ]
  },
  {
   "cell_type": "code",
   "execution_count": null,
   "id": "7e6debeb",
   "metadata": {},
   "outputs": [],
   "source": [
    "list_of_files = sorted(list_of_files, key=lambda nested: nested[1]) #sort by name\n",
    "list_of_files"
   ]
  },
  {
   "cell_type": "code",
   "execution_count": null,
   "id": "51d1d981",
   "metadata": {},
   "outputs": [],
   "source": [
    "words = []\n",
    "for directory, file in list_of_files:\n",
    "    url_file = \"https://api.github.com/repos/ironhack-datalabs/scavenger/contents/\"+directory+\"/\"+file\n",
    "    response_file = requests.get(url_file)\n",
    "    df_file = json_normalize(response_file.json())\n",
    "    base64_message = list(df_file.content)[0]\n",
    "    base64_bytes = base64_message.encode('ascii')\n",
    "    message_bytes = base64.b64decode(base64_bytes)\n",
    "    message = message_bytes.decode('ascii')\n",
    "    words.append(message)"
   ]
  },
  {
   "cell_type": "code",
   "execution_count": null,
   "id": "7a1e18f7",
   "metadata": {},
   "outputs": [],
   "source": [
    "hidden_code = []\n",
    "for word in words:\n",
    "    hidden_code.append(word.replace(\"\\n\",\"\"))\n",
    "hidden_code.insert(11, '20')"
   ]
  },
  {
   "cell_type": "code",
   "execution_count": null,
   "id": "5b03f6d2",
   "metadata": {},
   "outputs": [],
   "source": [
    "hidden_code = ' '.join(hidden_code[0:-3])\n",
    "print(hidden_code)"
   ]
  },
  {
   "cell_type": "code",
   "execution_count": null,
   "id": "5d65c48f",
   "metadata": {},
   "outputs": [],
   "source": []
  }
 ],
 "metadata": {
  "kernelspec": {
   "display_name": "Python 3 (ipykernel)",
   "language": "python",
   "name": "python3"
  },
  "language_info": {
   "codemirror_mode": {
    "name": "ipython",
    "version": 3
   },
   "file_extension": ".py",
   "mimetype": "text/x-python",
   "name": "python",
   "nbconvert_exporter": "python",
   "pygments_lexer": "ipython3",
   "version": "3.10.6"
  },
  "toc": {
   "base_numbering": 1,
   "nav_menu": {},
   "number_sections": true,
   "sideBar": true,
   "skip_h1_title": true,
   "title_cell": "Table of Contents",
   "title_sidebar": "Contents",
   "toc_cell": false,
   "toc_position": {},
   "toc_section_display": true,
   "toc_window_display": true
  }
 },
 "nbformat": 4,
 "nbformat_minor": 5
}
