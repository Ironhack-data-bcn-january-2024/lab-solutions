{
 "cells": [
  {
   "cell_type": "markdown",
   "id": "de16f193",
   "metadata": {},
   "source": [
    "# Common table expressions"
   ]
  },
  {
   "cell_type": "markdown",
   "id": "804db3eb",
   "metadata": {},
   "source": [
    "Using the northwind database"
   ]
  },
  {
   "cell_type": "markdown",
   "id": "39bd0243",
   "metadata": {},
   "source": [
    "## 1. Write a CTE that lists the names and quantities of products with a unit price greater than $50."
   ]
  },
  {
   "cell_type": "markdown",
   "id": "16ef1429",
   "metadata": {},
   "source": [
    "```sql\n",
    "WITH ExpensiveProducts AS (\n",
    "    SELECT ProductName, Unit\n",
    "    FROM Products\n",
    "    WHERE Price > 50\n",
    ")\n",
    "SELECT *\n",
    "FROM ExpensiveProducts;\n",
    "```"
   ]
  },
  {
   "cell_type": "markdown",
   "id": "b2645300",
   "metadata": {},
   "source": [
    "#### Expected results\n",
    "\n",
    "|ProductName                     |Unit|\n",
    "|--------------------------------|----|\n",
    "|Mishi Kobe Niku                 |18 - 500 g pkgs.|\n",
    "|Carnarvon Tigers                |16 kg pkg.|\n",
    "|Sir Rodney's Marmalade          |30 gift boxes|\n",
    "|Thüringer Rostbratwurst         |50 bags x 30 sausgs.|\n",
    "|Côte de Blaye                   |12 - 75 cl bottles|\n",
    "|Manjimup Dried Apples           |50 - 300 g pkgs.|\n",
    "|Raclette Courdavault            |5 kg pkg.|\n"
   ]
  },
  {
   "cell_type": "markdown",
   "id": "1567e188",
   "metadata": {},
   "source": [
    "## 2. What are the top 5 most profitable products?"
   ]
  },
  {
   "cell_type": "markdown",
   "id": "8e903fd6",
   "metadata": {},
   "source": [
    "```sql\n",
    "WITH ProductRevenue AS (\n",
    "    SELECT\n",
    "        Products.ProductID,\n",
    "        ProductName,\n",
    "        Price * SUM(Quantity) AS TotalRevenue\n",
    "    FROM\n",
    "        Products\n",
    "    JOIN\n",
    "        OrderDetails ON Products.ProductID = OrderDetails.ProductID\n",
    "    GROUP BY\n",
    "        ProductID, ProductName, Price\n",
    ")\n",
    "SELECT *\n",
    "FROM ProductRevenue\n",
    "ORDER BY TotalRevenue DESC;\n",
    "```"
   ]
  },
  {
   "cell_type": "markdown",
   "id": "1427a964",
   "metadata": {},
   "source": [
    "#### Expected results\n",
    "Alice Mutton is 6th\n",
    "\n",
    "|ProductID                       |ProductName|TotalRevenue|\n",
    "|--------------------------------|-----------|------------|\n",
    "|-                             |-|-       |\n",
    "|-                           |-|-       |\n",
    "|-                            |-|-       |\n",
    "|-                             |-|-       |\n",
    "|-                              |-|-       |\n",
    "|17                              |Alice Mutton|12909       |"
   ]
  },
  {
   "cell_type": "markdown",
   "id": "98eb8e31",
   "metadata": {},
   "source": [
    "## 3. Write a CTE that lists the top 5 categories by the number of products they have."
   ]
  },
  {
   "cell_type": "markdown",
   "id": "f46bca10",
   "metadata": {},
   "source": [
    "```sql\n",
    "WITH TopProductCategories AS (\n",
    "    SELECT\n",
    "        categories.CategoryName,\n",
    "        COUNT(products.ProductID) AS ProductCount\n",
    "    FROM\n",
    "        categories \n",
    "    JOIN\n",
    "        products ON categories.CategoryID = products.CategoryID\n",
    "    GROUP BY\n",
    "        categories.CategoryName\n",
    "    ORDER BY\n",
    "        ProductCount DESC\n",
    "    LIMIT 5\n",
    ")\n",
    "SELECT *\n",
    "FROM TopProductCategories;\n",
    "```"
   ]
  },
  {
   "cell_type": "markdown",
   "id": "f587ca6d",
   "metadata": {},
   "source": [
    "#### Expected result\n",
    "|CategoryName                    |ProductCount|\n",
    "|--------------------------------|------------|\n",
    "|Confections                     |13          |\n",
    "|Beverages                       |12          |\n",
    "|Condiments                      |12          |\n",
    "|Seafood                         |12          |\n",
    "|Dairy Products                  |10          |\n"
   ]
  },
  {
   "cell_type": "markdown",
   "id": "4889bd5f",
   "metadata": {},
   "source": [
    "## 4. Write a CTE that shows the average order quantity for each product category."
   ]
  },
  {
   "cell_type": "markdown",
   "id": "3a9c82cc",
   "metadata": {},
   "source": [
    "```sql\n",
    "WITH AvgOrderQuantityPerCategory AS (\n",
    "    SELECT\n",
    "        c.CategoryName,\n",
    "        AVG(od.Quantity) AS AvgOrderQuantity\n",
    "    FROM\n",
    "        Categories c\n",
    "    JOIN\n",
    "        Products p ON c.CategoryID = p.CategoryID\n",
    "    JOIN\n",
    "        OrderDetails od ON p.ProductID = od.ProductID\n",
    "    GROUP BY\n",
    "        c.CategoryName\n",
    ")\n",
    "SELECT *\n",
    "FROM AvgOrderQuantityPerCategory;\n",
    "```"
   ]
  },
  {
   "cell_type": "markdown",
   "id": "dee27019",
   "metadata": {},
   "source": [
    "|CategoryName                    |AvgOrderQuantity|\n",
    "|--------------------------------|----------------|\n",
    "|Beverages                       |24.6129         |\n",
    "|Condiments                      |28.2245         |\n",
    "|Confections                     |25.1190         |\n",
    "|Dairy Products                  |26.0100         |\n",
    "|Grains/Cereals                  |21.7143         |\n",
    "|Meat/Poultry                    |25.7600         |\n",
    "|Produce                         |21.6667         |\n",
    "|Seafood                         |21.5672         |\n"
   ]
  },
  {
   "cell_type": "markdown",
   "id": "0d39d52e",
   "metadata": {},
   "source": [
    "# 5. Create a CTE to calculate the average order amount for each customer."
   ]
  },
  {
   "cell_type": "markdown",
   "id": "1cd61aef",
   "metadata": {},
   "source": [
    "```sql\n",
    "WITH AverageOrderAmount AS (\n",
    "    SELECT\n",
    "        c.CustomerID,\n",
    "        c.CustomerName,\n",
    "        AVG(od.Quantity * p.Price) AS AvgOrderAmount\n",
    "    FROM\n",
    "        Customers c\n",
    "    JOIN\n",
    "        Orders o ON c.CustomerID = o.CustomerID\n",
    "    JOIN\n",
    "        OrderDetails od ON o.OrderID = od.OrderID\n",
    "\tJOIN\n",
    "\t\tProducts p ON p.ProductId = od.ProductID\n",
    "    GROUP BY\n",
    "        c.CustomerID, c.CustomerName\n",
    ")\n",
    "SELECT *\n",
    "FROM AverageOrderAmount \n",
    "ORDER BY AvgOrderAmount DESC;\n",
    "```"
   ]
  },
  {
   "cell_type": "markdown",
   "id": "b2891e73",
   "metadata": {},
   "source": [
    "|CustomerID                      |CustomerName|AvgOrderAmount|\n",
    "|--------------------------------|------------|--------------|\n",
    "|59                              |Piccolo und mehr|4014.2500     |\n",
    "|73                              |Simons bistro|2444.3333     |\n",
    "|62                              |Queen Cozinha|1991.6667     |\n",
    "|51                              |Mère Paillarde|1673.8571     |\n",
    "|71                              |Save-a-lot Markets|1407.2500     |\n",
    "|76                              |Suprêmes délices|1345.8333     |\n",
    "|81                              |Tradição Hipermercados|1315.6667     |\n",
    "|7                               |Blondel père et fils|1174.4615     |\n",
    "|89                              |White Clover Markets|1112.5000     |\n",
    "|55                              |Old World Delicatessen|1079.5000     |\n",
    "|20                              |Ernst Handel|1018.0000     |\n",
    "|19                              |Eastern Connection|1004.8000     |\n",
    "|68                              |Richter Supermarkt|976.6667      |\n",
    "|72                              |Seven Seas Imports|934.0000      |\n",
    "|63                              |QUICK-Stop  |908.5500      |\n",
    "|25                              |Frankenversand|895.0667      |\n",
    "|75                              |Split Rail Beer & Ale|854.7692      |\n",
    "|65                              |Rattlesnake Canyon Grocery|838.2727      |\n",
    "|52                              |Morgenstern Gesundkost|754.0000      |\n",
    "|9                               |Bon app''   |750.4286      |\n",
    "|37                              |Hungry Owl All-Night Grocers|733.5714      |\n",
    "|35                              |HILARIÓN-Abastos|722.8333      |\n",
    "|33                              |GROSELLA-Restaurante|690.0000      |\n",
    "|34                              |Hanari Carnes|681.0000      |\n",
    "|15                              |Comércio Mineiro|677.5000      |\n",
    "|23                              |Folies gourmandes|672.3333      |\n",
    "|10                              |Bottom-Dollar Marketse|664.0000      |\n",
    "|31                              |Gourmet Lanchonetes|641.0000      |\n",
    "|60                              |Princesa Isabel Vinhoss|628.5000      |\n",
    "|5                               |Berglunds snabbköp|601.5556      |\n",
    "|46                              |LILA-Supermercado|564.7692      |\n",
    "|44                              |Lehmanns Marktstand|545.7500      |\n",
    "|30                              |Godos Cocina Típica|515.0000      |\n",
    "|3                               |Antonio Moreno Taquería|504.0000      |\n",
    "|88                              |Wellington Importadora|503.8333      |\n",
    "|47                              |LINO-Delicateses|500.0000      |\n",
    "|56                              |Ottilies Käseladen|500.0000      |\n",
    "|87                              |Wartian Herkku|492.5833      |\n",
    "|24                              |Folk och fä HB|480.2222      |\n",
    "|49                              |Magazzini Alimentari Riuniti|464.2857      |\n",
    "|86                              |Die Wandernde Kuh|441.9091      |\n",
    "|41                              |La maison d''Asie|437.8182      |\n",
    "|8                               |Bólido Comidas preparadas|416.0000      |\n",
    "|83                              |Vaffeljernet|411.0000      |\n",
    "|14                              |Chop-suey Chinese|374.8333      |\n",
    "|80                              |Tortuga Restaurante|357.4167      |\n"
   ]
  },
  {
   "cell_type": "markdown",
   "id": "7215dd30",
   "metadata": {},
   "source": [
    "# 6. Sales Analysis with CTEs\n",
    "\n",
    "Assume we have the Northwind database which contains tables like Orders, OrderDetails, and Products. Create a CTE that calculates the total sales for each product in the year 1997."
   ]
  },
  {
   "cell_type": "markdown",
   "id": "341e2b74",
   "metadata": {},
   "source": [
    "```sql\n",
    "WITH ProductSales AS (\n",
    "    SELECT \n",
    "        p.ProductName,\n",
    "        SUM(od.Quantity) AS TotalSales\n",
    "    FROM \n",
    "        Products p\n",
    "    JOIN \n",
    "        OrderDetails od ON p.ProductID = od.ProductID\n",
    "    JOIN \n",
    "        Orders o ON od.OrderID = o.OrderID\n",
    "    WHERE \n",
    "        YEAR(o.OrderDate) = 1997\n",
    "    GROUP BY \n",
    "        p.ProductName\n",
    ")\n",
    "SELECT \n",
    "    ProductName,\n",
    "    TotalSales\n",
    "FROM \n",
    "    ProductSales\n",
    "ORDER BY \n",
    "    TotalSales DESC;\n",
    " ```"
   ]
  },
  {
   "cell_type": "markdown",
   "id": "3e5a5bc2",
   "metadata": {},
   "source": [
    "#### Expected result\n",
    "\n",
    "|ProductName                     |TotalSales|\n",
    "|--------------------------------|----------|\n",
    "|Gnocchi di nonna Alice          |173       |\n",
    "|Tourtière                       |126       |\n",
    "|Geitost                         |119       |\n",
    "|Chang                           |115       |\n",
    "|Raclette Courdavault            |115       |\n",
    "|Sirop d'érable                  |106       |\n",
    "|Vegie-spread                    |100       |\n",
    "|Côte de Blaye                   |99        |\n",
    "|Alice Mutton                    |97        |\n",
    "|Steeleye Stout                  |95        |\n",
    "|Sir Rodney's Scones             |92        |\n",
    "|Pavlova                         |86        |\n",
    "|Zaanse koeken                   |85        |\n",
    "|Fløtemysost                     |75        |\n",
    "|Tarte au sucre                  |75        |\n"
   ]
  }
 ],
 "metadata": {
  "kernelspec": {
   "display_name": "Python 3 (ipykernel)",
   "language": "python",
   "name": "python3"
  },
  "language_info": {
   "codemirror_mode": {
    "name": "ipython",
    "version": 3
   },
   "file_extension": ".py",
   "mimetype": "text/x-python",
   "name": "python",
   "nbconvert_exporter": "python",
   "pygments_lexer": "ipython3",
   "version": "3.9.12"
  },
  "nbTranslate": {
   "displayLangs": [
    "en",
    "es"
   ],
   "hotkey": "alt-a",
   "langInMainMenu": true,
   "sourceLang": "es",
   "targetLang": "en",
   "useGoogleTranslate": true
  },
  "toc": {
   "base_numbering": 1,
   "nav_menu": {},
   "number_sections": true,
   "sideBar": true,
   "skip_h1_title": false,
   "title_cell": "Table of Contents",
   "title_sidebar": "Contents",
   "toc_cell": false,
   "toc_position": {},
   "toc_section_display": true,
   "toc_window_display": false
  }
 },
 "nbformat": 4,
 "nbformat_minor": 5
}
